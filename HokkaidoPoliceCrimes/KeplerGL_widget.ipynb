{
 "cells": [
  {
   "cell_type": "markdown",
   "metadata": {},
   "source": [
    "# kepler.glを jupyter notebook内で利用する"
   ]
  },
  {
   "cell_type": "markdown",
   "metadata": {},
   "source": [
    "## 参考記事\n",
    "\n",
    "Introducing kepler.gl for Jupyter\n",
    "\n",
    "- https://medium.com/vis-gl/introducing-kepler-gl-for-jupyter-f72d41659fbf\n",
    "    "
   ]
  },
  {
   "cell_type": "code",
   "execution_count": 99,
   "metadata": {},
   "outputs": [
    {
     "data": {
      "text/html": [
       "<div>\n",
       "<style scoped>\n",
       "    .dataframe tbody tr th:only-of-type {\n",
       "        vertical-align: middle;\n",
       "    }\n",
       "\n",
       "    .dataframe tbody tr th {\n",
       "        vertical-align: top;\n",
       "    }\n",
       "\n",
       "    .dataframe thead th {\n",
       "        text-align: right;\n",
       "    }\n",
       "</style>\n",
       "<table border=\"1\" class=\"dataframe\">\n",
       "  <thead>\n",
       "    <tr style=\"text-align: right;\">\n",
       "      <th></th>\n",
       "      <th>手口</th>\n",
       "      <th>管轄交番・駐在所（発生地）</th>\n",
       "      <th>発生年月日（始期）</th>\n",
       "      <th>発生場所の属性</th>\n",
       "      <th>Longitude</th>\n",
       "      <th>Latitude</th>\n",
       "    </tr>\n",
       "  </thead>\n",
       "  <tbody>\n",
       "    <tr>\n",
       "      <th>0</th>\n",
       "      <td>部品ねらい</td>\n",
       "      <td>札幌駅前</td>\n",
       "      <td>2018/9/16</td>\n",
       "      <td>その他</td>\n",
       "      <td>141.34958</td>\n",
       "      <td>43.06726</td>\n",
       "    </tr>\n",
       "    <tr>\n",
       "      <th>1</th>\n",
       "      <td>部品ねらい</td>\n",
       "      <td>大通</td>\n",
       "      <td>2018/10/9</td>\n",
       "      <td>道路上</td>\n",
       "      <td>141.35788</td>\n",
       "      <td>43.06196</td>\n",
       "    </tr>\n",
       "    <tr>\n",
       "      <th>2</th>\n",
       "      <td>部品ねらい</td>\n",
       "      <td>南三条</td>\n",
       "      <td>2018/8/12</td>\n",
       "      <td>道路上</td>\n",
       "      <td>141.34187</td>\n",
       "      <td>43.05910</td>\n",
       "    </tr>\n",
       "    <tr>\n",
       "      <th>3</th>\n",
       "      <td>部品ねらい</td>\n",
       "      <td>南三条</td>\n",
       "      <td>2018/7/20</td>\n",
       "      <td>その他</td>\n",
       "      <td>141.34244</td>\n",
       "      <td>43.05629</td>\n",
       "    </tr>\n",
       "    <tr>\n",
       "      <th>4</th>\n",
       "      <td>部品ねらい</td>\n",
       "      <td>南三条</td>\n",
       "      <td>2018/11/30</td>\n",
       "      <td>駐車（輪）場</td>\n",
       "      <td>141.34944</td>\n",
       "      <td>43.05504</td>\n",
       "    </tr>\n",
       "  </tbody>\n",
       "</table>\n",
       "</div>"
      ],
      "text/plain": [
       "      手口 管轄交番・駐在所（発生地）   発生年月日（始期） 発生場所の属性  Longitude  Latitude\n",
       "0  部品ねらい          札幌駅前   2018/9/16     その他  141.34958  43.06726\n",
       "1  部品ねらい            大通   2018/10/9     道路上  141.35788  43.06196\n",
       "2  部品ねらい           南三条   2018/8/12     道路上  141.34187  43.05910\n",
       "3  部品ねらい           南三条   2018/7/20     その他  141.34244  43.05629\n",
       "4  部品ねらい           南三条  2018/11/30  駐車（輪）場  141.34944  43.05504"
      ]
     },
     "execution_count": 99,
     "metadata": {},
     "output_type": "execute_result"
    }
   ],
   "source": [
    "import os\n",
    "import pandas as pd\n",
    "\n",
    "path = os.path.join(os.getcwd(), \"hokkaido_police_crimes_2018.csv\")\n",
    "\n",
    "# ジオコーディング済の犯罪オープンデータ CSVファイルを読み込む\n",
    "df = pd.read_csv(path, encoding='shift_jis', usecols=['手口', '管轄交番・駐在所（発生地）', '発生年月日（始期）', '発生場所の属性', 'fX', 'fY'])\n",
    "\n",
    "# 経緯度の列名を変更\n",
    "df.rename({'fX':'Longitude', 'fY':'Latitude'}, axis='columns', inplace=True)\n",
    "\n",
    "df.head()"
   ]
  },
  {
   "cell_type": "code",
   "execution_count": 96,
   "metadata": {
    "code_folding": [
     2
    ]
   },
   "outputs": [],
   "source": [
    "# 表示およびレイヤーの初期設定\n",
    "\n",
    "# dataIdは add_data()の name引数に対応させる\n",
    "\n",
    "config = {\n",
    "    'version': 'v1',\n",
    "    \n",
    "    'config':{\n",
    "        'mapState': {\n",
    "            'latitude': 43.1,\n",
    "            'longitude': 143.10,\n",
    "            'zoom': 7,\n",
    "            'bearing': 0,\n",
    "            'pitch': 30,\n",
    "            'dragRotate': False,\n",
    "            'isSplit': False\n",
    "        },\n",
    "        'mapStyle':{\n",
    "               'styleType': 'dark'\n",
    "        },\n",
    "        'visState': {\n",
    "            'layers':[\n",
    "                {\n",
    "                    'id':'000',\n",
    "                    'type':'point',\n",
    "                    'config':{\n",
    "                        'dataId': 'Crimes', \n",
    "                        'label': 'Point',\n",
    "                        'columns': {'lat': 'Latitude', 'lng': 'Longitude', 'altitude': None},\n",
    "                        'color': [64, 192, 144],\n",
    "                        'isVisible': False,\n",
    "                    }\n",
    "                 },\n",
    "                {\n",
    "                    'id': '001',\n",
    "                    'type': 'hexagon',\n",
    "                    'config': {\n",
    "                        'dataId': 'Crimes',\n",
    "                        'label': 'Hexbin',\n",
    "                        'color': [221, 178, 124],\n",
    "                        'columns': {'lat': 'Latitude', 'lng': 'Longitude'},\n",
    "                        'isVisible': True,\n",
    "                        'enable3d': True,\n",
    "                        'coverage': 1,\n",
    "                        'sizeRange': [0, 500],\n",
    "                        'percentile': [0, 100],\n",
    "                        'elevationPercentile': [0, 100],\n",
    "                        'elevationScale': 5,\n",
    "                    }\n",
    "                }\n",
    "            ],\n",
    "            'layerBlending':'normal',\n",
    "            'splitMaps':[]\n",
    "        },\n",
    "    }\n",
    "}"
   ]
  },
  {
   "cell_type": "code",
   "execution_count": 100,
   "metadata": {
    "code_folding": [
     0,
     4,
     13
    ]
   },
   "outputs": [
    {
     "name": "stdout",
     "output_type": "stream",
     "text": [
      "User Guide: https://github.com/keplergl/kepler.gl/blob/master/docs/keplergl-jupyter/user-guide.md\n"
     ]
    },
    {
     "data": {
      "application/vnd.jupyter.widget-view+json": {
       "model_id": "2d7ba9d13c364bd9b5665c8092d805fd",
       "version_major": 2,
       "version_minor": 0
      },
      "text/plain": [
       "KeplerGl(config={'version': 'v1', 'config': {'mapState': {'latitude': 43.1, 'longitude': 143.1, 'zoom': 7, 'be…"
      ]
     },
     "metadata": {},
     "output_type": "display_data"
    }
   ],
   "source": [
    "from keplergl import KeplerGl\n",
    "\n",
    "# widgetを生成してデータフレームを追加する\n",
    "kepler = KeplerGl(height=600, config=config)\n",
    "kepler.add_data(data=df, name=\"Crimes\")\n",
    "kepler"
   ]
  },
  {
   "cell_type": "code",
   "execution_count": 98,
   "metadata": {},
   "outputs": [
    {
     "name": "stdout",
     "output_type": "stream",
     "text": [
      "Map saved to kepler_crimes.html!\n"
     ]
    }
   ],
   "source": [
    "# HTMLファイルに保存する\n",
    "\n",
    "kepler.save_to_html(file_name=\"kepler_crimes.html\")"
   ]
  }
 ],
 "metadata": {
  "kernelspec": {
   "display_name": "Python 3",
   "language": "python",
   "name": "python3"
  },
  "language_info": {
   "codemirror_mode": {
    "name": "ipython",
    "version": 3
   },
   "file_extension": ".py",
   "mimetype": "text/x-python",
   "name": "python",
   "nbconvert_exporter": "python",
   "pygments_lexer": "ipython3",
   "version": "3.7.3"
  }
 },
 "nbformat": 4,
 "nbformat_minor": 2
}
